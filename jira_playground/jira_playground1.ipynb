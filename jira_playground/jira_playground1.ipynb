{
 "cells": [
  {
   "cell_type": "code",
   "execution_count": 9,
   "metadata": {},
   "outputs": [
    {
     "name": "stdout",
     "output_type": "stream",
     "text": [
      "Username:  vrt_RUIAN-HDCUZK\n",
      "Summary:  Nevalidna odpoved pre ZplatniNzCSU\n",
      "Type:  Chyba\n",
      "Reporter:  Hanák Richard\n"
     ]
    }
   ],
   "source": [
    "from jira.client import JIRA\n",
    "import logging\n",
    "import urllib3\n",
    "import os\n",
    "\n",
    "urllib3.disable_warnings()\n",
    "\n",
    "# Defines a function for connecting to Jira\n",
    "def connect_jira(log, jira_server, jira_user, jira_password):\n",
    "    '''\n",
    "    Connect to JIRA. Return None on error\n",
    "    '''\n",
    "    try:\n",
    "        log.info(\"Connecting to JIRA: %s\" % jira_server)\n",
    "        jira_options = {'server': jira_server,'verify':False}\n",
    "        jira = JIRA(options=jira_options, basic_auth=(jira_user, jira_password))\n",
    "                                        # ^--- Note the tuple\n",
    "        return jira\n",
    "    except Exception as e:\n",
    "        log.error(\"Failed to connect to JIRA: %s\" % e)\n",
    "        return None\n",
    "\n",
    "# create logger\n",
    "log = logging.getLogger(__name__)\n",
    "logging.info(\"Begin\")\n",
    "\n",
    "# read credentials from environment\n",
    "username = os.environ['JIRA_USER']\n",
    "password = os.environ['JIRA_PASS']\n",
    "print(\"Username: \", username)\n",
    "#print(\"Password: \", password)\n",
    "\n",
    "# create a connection object, jc\n",
    "jc = connect_jira(log, \"https://czjira.ness.com\", username, password)\n",
    "\n",
    "# read details for issue\n",
    "issue = jc.issue('CUZKRUIAN-12345')\n",
    "\n",
    "# print the issue details\n",
    "print(\"Summary: \", issue.fields.summary)\n",
    "print(\"Type: \", issue.fields.issuetype.name)\n",
    "print(\"Reporter: \", issue.fields.reporter.displayName)\n"
   ]
  },
  {
   "cell_type": "code",
   "execution_count": 23,
   "metadata": {},
   "outputs": [
    {
     "name": "stdout",
     "output_type": "stream",
     "text": [
      "<table>\n",
      "<tr><td>CUZKRUIAN-17100</td><td>Navrhy Petra B. na zlepseni aplikace</td></tr>\n",
      "<tr><td>CUZKRUIAN-17007</td><td>Pro maven projekty vytvorit jenkins joby pro profil generovani</td></tr>\n",
      "<tr><td>CUZKRUIAN-16958</td><td>Z knihovny pro webové služby provést restrukturalizaci</td></tr>\n",
      "<tr><td>CUZKRUIAN-16869</td><td>RUIAN/ISUI - generatory kodu</td></tr>\n",
      "<tr><td>CUZKRUIAN-16857</td><td>VDP: generatory kodu</td></tr>\n",
      "<tr><td>CUZKRUIAN-16220</td><td>Metoda VyhledejParcelaServiceImpl.validateFilter je zbytečně nesrozumitelná</td></tr>\n",
      "<tr><td>CUZKRUIAN-14875</td><td>Unit testy na metody .uip_<prvek>.uloz_navrh </td></tr>\n",
      "<tr><td>CUZKRUIAN-14874</td><td>Vytvořit podporu pro unit testy zahrnující komunikaci s RUIANem a pracující s funkčností závislou na datumu</td></tr>\n",
      "<tr><td>CUZKRUIAN-14768</td><td>Revize kodu - vylepseni zdrojovych kodu aplikace VDP - RUIAN 1.6</td></tr>\n",
      "<tr><td>CUZKRUIAN-14342</td><td>Narovnání objektů mezi RUIAN a VDP + vydělení odlišných částí do samostatného modulu.</td></tr>\n",
      "<tr><td>CUZKRUIAN-13153</td><td>Zlepšení logování</td></tr>\n",
      "<tr><td>CUZKRUIAN-12726</td><td>Standardizace použití UTPLSQL - využití podmíněné kompilace pro schovávání metod - isui</td></tr>\n",
      "<tr><td>CUZKRUIAN-12423</td><td>init_ldev.cmd - doplnit kontroly na přítomnost archivů s daty pro data load</td></tr>\n",
      "<tr><td>CUZKRUIAN-8426</td><td>Kontrola dodržování jmenných konvencí COLLECTION oracle typů</td></tr>\n",
      "<tr><td>CUZKRUIAN-7638</td><td>Zpracování SDO_GEOMETRY</td></tr>\n",
      "<tr><td>CUZKRUIAN-7604</td><td>Zlepšit detekci COLLECTION typů</td></tr>\n",
      "<tr><td>CUZKRUIAN-6583</td><td>Mock pro simulaci WS SD (HelpDesku)</td></tr>\n",
      "<tr><td>CUZKRUIAN-5228</td><td>PolozkaNZDAO - nacitani z JPA</td></tr>\n",
      "<tr><td>CUZKRUIAN-4357</td><td>OpenTasks - byvali clenove tymu NESS</td></tr>\n",
      "</table>\n"
     ]
    }
   ],
   "source": [
    "issues = jc.search_issues('filter=33559')\n",
    "#issues = jc.search_issues('project=CUZKRUIAN')\n",
    "\n",
    "def table(inner_table):\n",
    "    return \"<table>\\n\"+inner_table+\"\\n</table>\"\n",
    "\n",
    "def tr(inner_row):\n",
    "    return \"<tr>\"+inner_row+\"</tr>\"\n",
    "\n",
    "def td(cell_text):\n",
    "    return \"<td>\"+cell_text+\"</td>\"\n",
    "\n",
    "def render_line(issue):\n",
    "    return tr(td(issue.key)+td(issue.fields.summary))\n",
    "\n",
    "html_lines = list(map(render_line,issues))\n",
    "\n",
    "html_table = table(\"\\n\".join(html_lines))\n",
    "\n",
    "print(html_table)\n",
    "\n",
    "#for issue in issues:\n",
    "#    print(issue.key,issue.fields.summary)"
   ]
  },
  {
   "cell_type": "code",
   "execution_count": 15,
   "metadata": {},
   "outputs": [
    {
     "name": "stdout",
     "output_type": "stream",
     "text": [
      "_Hello_\n",
      "_world_\n",
      "_this_\n",
      "_is_\n",
      "_really_\n",
      "_nice_\n"
     ]
    }
   ],
   "source": [
    "#\n",
    "# Map + join\n",
    "#\n",
    "def decorate(s):\n",
    "    return \"_\"+s+\"_\"\n",
    "\n",
    "my_list = [\"Hello\", \"world\", \"this\", \"is\", \"really\", \"nice\"]\n",
    "my_l2 = list(map(decorate,my_list))\n",
    "print(\"\\n\".join(my_l2))"
   ]
  },
  {
   "cell_type": "code",
   "execution_count": null,
   "metadata": {},
   "outputs": [],
   "source": []
  }
 ],
 "metadata": {
  "kernelspec": {
   "display_name": "Python 3",
   "language": "python",
   "name": "python3"
  },
  "language_info": {
   "codemirror_mode": {
    "name": "ipython",
    "version": 3
   },
   "file_extension": ".py",
   "mimetype": "text/x-python",
   "name": "python",
   "nbconvert_exporter": "python",
   "pygments_lexer": "ipython3",
   "version": "3.6.4"
  }
 },
 "nbformat": 4,
 "nbformat_minor": 2
}
